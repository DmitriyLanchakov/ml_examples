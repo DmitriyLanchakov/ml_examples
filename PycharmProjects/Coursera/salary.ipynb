{
 "cells": [
  {
   "cell_type": "code",
   "execution_count": 20,
   "metadata": {
    "collapsed": false
   },
   "outputs": [],
   "source": [
    "import pandas as pd\n",
    "from sklearn.feature_extraction.text import TfidfVectorizer\n",
    "from sklearn.feature_extraction import DictVectorizer\n",
    "from scipy.sparse import hstack\n",
    "data = pd.read_csv('salary-train.csv', delim_whitespace=False, index_col='SalaryNormalized')\n",
    "label = 'FullDescription'\n",
    "data[label] = data[label].str.lower()\n",
    "data[label] = data[label].str.replace('[^a-zA-Z0-9]', ' ')\n",
    "vectorizer = TfidfVectorizer(min_df=5)\n",
    "X_train_text = vectorizer.fit_transform(data[label])\n",
    "label1 = 'LocationNormalized'\n",
    "label2 = 'ContractTime'\n",
    "data[label1].fillna('nan', inplace=True)\n",
    "data[label2].fillna('nan', inplace=True)\n",
    "enc = DictVectorizer()\n",
    "X_train_cat = enc.fit_transform(data[[label1, label2]].to_dict('records'))\n",
    "X_train = hstack([X_train_text, X_train_cat])"
   ]
  },
  {
   "cell_type": "code",
   "execution_count": 21,
   "metadata": {},
   "outputs": [],
   "source": [
    "test_data = pd.read_csv('salary-test-mini.csv', delim_whitespace=False, index_col='SalaryNormalized')\n",
    "test_data[label] = test_data[label].str.lower()\n",
    "test_data[label] = test_data[label].str.replace('[^a-zA-Z0-9]', ' ')\n",
    "X_test_text = vectorizer.transform(test_data[label])\n",
    "X_test_cat = enc.transform(test_data[[label1, label2]].to_dict('records'))\n",
    "X_test = hstack([X_test_text, X_test_cat])"
   ]
  },
  {
   "cell_type": "code",
   "execution_count": 22,
   "metadata": {},
   "outputs": [
    {
     "data": {
      "text/plain": [
       "Ridge(alpha=1, copy_X=True, fit_intercept=True, max_iter=None,\n   normalize=False, random_state=241, solver='auto', tol=0.001)"
      ]
     },
     "execution_count": 22,
     "metadata": {},
     "output_type": "execute_result"
    }
   ],
   "source": [
    "from sklearn.linear_model import Ridge\n",
    "clf = Ridge(alpha=1, random_state=241)\n",
    "clf.fit(X_train, data.index)"
   ]
  },
  {
   "cell_type": "code",
   "execution_count": 24,
   "metadata": {},
   "outputs": [
    {
     "name": "stdout",
     "output_type": "stream",
     "text": [
      "56555.62\n37188.32\n"
     ]
    }
   ],
   "source": [
    "predictions = clf.predict(X_test)\n",
    "for item in predictions:\n",
    "    print(round(item, 2))"
   ]
  },
  {
   "cell_type": "code",
   "execution_count": null,
   "metadata": {},
   "outputs": [],
   "source": [
    ""
   ]
  }
 ],
 "metadata": {
  "kernelspec": {
   "display_name": "Python 2",
   "language": "python",
   "name": "python2"
  },
  "language_info": {
   "codemirror_mode": {
    "name": "ipython",
    "version": 2.0
   },
   "file_extension": ".py",
   "mimetype": "text/x-python",
   "name": "python",
   "nbconvert_exporter": "python",
   "pygments_lexer": "ipython2",
   "version": "2.7.6"
  }
 },
 "nbformat": 4,
 "nbformat_minor": 0
}