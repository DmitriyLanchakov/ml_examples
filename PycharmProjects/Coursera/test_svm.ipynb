{
 "cells": [
  {
   "cell_type": "code",
   "execution_count": 204,
   "metadata": {
    "collapsed": true
   },
   "outputs": [],
   "source": [
    "from sklearn import datasets\n",
    "from sklearn.feature_extraction.text import TfidfVectorizer\n",
    "import numpy as np\n",
    "newsgroups = datasets.fetch_20newsgroups(subset='all', categories=['alt.atheism', 'sci.space'])\n",
    "vectorizer = TfidfVectorizer()\n",
    "data = vectorizer.fit_transform(newsgroups.data)"
   ]
  },
  {
   "cell_type": "code",
   "execution_count": 205,
   "metadata": {},
   "outputs": [
    {
     "name": "stdout",
     "output_type": "stream",
     "text": [
      "{'C': 1.0} 0.9932810750279956\n"
     ]
    }
   ],
   "source": [
    "from sklearn.svm import SVC\n",
    "from sklearn.model_selection import KFold\n",
    "from sklearn.grid_search import GridSearchCV\n",
    "grid = {'C': np.power(10.0, np.arange(-5, 6))}\n",
    "kf = list(KFold(n_splits=5, shuffle=True, random_state=241).split(data))\n",
    "clf = SVC(kernel='linear', random_state=241)\n",
    "gs = GridSearchCV(estimator=clf, param_grid=grid, scoring='accuracy', cv=kf)\n",
    "gs.fit(data, newsgroups.target)\n",
    "print(gs.best_params_, gs.best_score_)"
   ]
  },
  {
   "cell_type": "code",
   "execution_count": 206,
   "metadata": {},
   "outputs": [
    {
     "data": {
      "text/plain": [
       "SVC(C=1, cache_size=200, class_weight=None, coef0=0.0,\n  decision_function_shape=None, degree=3, gamma='auto', kernel='linear',\n  max_iter=-1, probability=False, random_state=241, shrinking=True,\n  tol=0.001, verbose=False)"
      ]
     },
     "execution_count": 206,
     "metadata": {},
     "output_type": "execute_result"
    }
   ],
   "source": [
    "clf = SVC(C=1, kernel='linear', random_state=241)\n",
    "clf.fit(data, newsgroups.target)"
   ]
  },
  {
   "cell_type": "code",
   "execution_count": 213,
   "metadata": {
    "collapsed": false
   },
   "outputs": [
    {
     "name": "stdout",
     "output_type": "stream",
     "text": [
      "[[24019, 2.6631647884797105], [12871, 1.9203794002294938], [5088, 1.2546899512384038], [5093, 1.2491800073760075], [17802, 1.2016111817520696], [23673, 1.1801315951388633], [21850, 1.13908083789883], [5776, 1.130612344664901], [15606, 1.0970936466401482], [22936, 1.0293069271856938]]\natheism\natheists\nbible\ngod\nkeith\nmoon\nreligion\nsci\nsky\nspace\n"
     ]
    }
   ],
   "source": [
    "coef = abs(clf.coef_[0])\n",
    "my_indexes = coef.indices\n",
    "my_data = coef.toarray()[0]\n",
    "slovar = []\n",
    "i = 0\n",
    "for num in range(18404):\n",
    "    while (num+i) < 28382 and my_data[num+i] == 0:\n",
    "        i += 1\n",
    "    slovar.append([num+i, my_data[num+i]])\n",
    "sorted_coef = sorted(slovar, key=lambda x: x[1], reverse=True)\n",
    "top10 = sorted_coef[:10]\n",
    "feature_mapping = vectorizer.get_feature_names()\n",
    "words = []\n",
    "for word in top10:\n",
    "    words.append(feature_mapping[int(word[0])])\n",
    "for word in sorted(words):\n",
    "    print(word)"
   ]
  },
  {
   "cell_type": "code",
   "execution_count": null,
   "metadata": {},
   "outputs": [],
   "source": [
    ""
   ]
  }
 ],
 "metadata": {
  "kernelspec": {
   "display_name": "Python 2",
   "language": "python",
   "name": "python2"
  },
  "language_info": {
   "codemirror_mode": {
    "name": "ipython",
    "version": 2.0
   },
   "file_extension": ".py",
   "mimetype": "text/x-python",
   "name": "python",
   "nbconvert_exporter": "python",
   "pygments_lexer": "ipython2",
   "version": "2.7.6"
  }
 },
 "nbformat": 4,
 "nbformat_minor": 0
}