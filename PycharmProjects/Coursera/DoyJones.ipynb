{
 "cells": [
  {
   "cell_type": "code",
   "execution_count": 1,
   "metadata": {
    "collapsed": true
   },
   "outputs": [
    {
     "name": "stdout",
     "output_type": "stream",
     "text": [
      "                  AXP          BA        CAT       CSCO         CVX  \\\ndate                                                                  \n2013-09-23  76.440002  117.510002  85.029999  24.270000  125.519997   \n2013-09-24  76.070000  119.000000  85.110001  24.139999  124.489998   \n\n                   DD    DIS         GE          GS         HD    ...      \\\ndate                                                              ...       \n2013-09-23  59.409999  64.75  24.280001  165.250000  75.910004    ...       \n2013-09-24  59.319997  64.32  24.320000  162.970001  76.040001    ...       \n\n                  PFE         PG          T        TRV    UNH         UTX  \\\ndate                                                                        \n2013-09-23  28.799999  79.279999  34.220001  86.379997  71.82  109.419998   \n2013-09-24  28.709999  78.620003  34.090000  85.870003  72.32  110.000000   \n\n                     V     VZ        WMT        XOM  \ndate                                                 \n2013-09-23  196.240005  47.98  76.419998  87.750000  \n2013-09-24  193.339996  47.27  75.750000  87.360001  \n\n[2 rows x 30 columns]\n"
     ]
    }
   ],
   "source": [
    "import pandas as pd\n",
    "import numpy as np\n",
    "data = pd.read_csv('close_prices.csv', delim_whitespace=False, index_col='date')\n",
    "print(data[:2])"
   ]
  },
  {
   "cell_type": "code",
   "execution_count": 2,
   "metadata": {},
   "outputs": [
    {
     "name": "stdout",
     "output_type": "stream",
     "text": [
      "4\n"
     ]
    }
   ],
   "source": [
    "from sklearn.decomposition import PCA\n",
    "pca = PCA(n_components=10)\n",
    "pca.fit(data)\n",
    "disp = pca.explained_variance_ratio_\n",
    "amount, percent = 0, 0\n",
    "while percent < 0.9:\n",
    "    amount += 1\n",
    "    percent += disp[amount-1]\n",
    "print(amount)"
   ]
  },
  {
   "cell_type": "code",
   "execution_count": 23,
   "metadata": {
    "collapsed": false
   },
   "outputs": [
    {
     "name": "stdout",
     "output_type": "stream",
     "text": [
      "0.91\n"
     ]
    }
   ],
   "source": [
    "new_data = pca.transform(data.values)\n",
    "first_component = new_data[:, 0]\n",
    "DowJones = pd.read_csv('djia_index.csv', delim_whitespace=False, index_col='date')\n",
    "X1 = first_component.T\n",
    "X2 = DowJones.values.T\n",
    "pearson = np.corrcoef(X1, X2)\n",
    "print(round(pearson[0,1], 2))"
   ]
  },
  {
   "cell_type": "code",
   "execution_count": 30,
   "metadata": {},
   "outputs": [
    {
     "name": "stdout",
     "output_type": "stream",
     "text": [
      "V\n"
     ]
    }
   ],
   "source": [
    "first_component_values = pca.components_[0]\n",
    "index = first_component_values.argmax()\n",
    "i = 0\n",
    "for label in data:\n",
    "    if i == index:\n",
    "        print(label)\n",
    "    i += 1"
   ]
  },
  {
   "cell_type": "code",
   "execution_count": null,
   "metadata": {},
   "outputs": [],
   "source": [
    ""
   ]
  }
 ],
 "metadata": {
  "kernelspec": {
   "display_name": "Python 2",
   "language": "python",
   "name": "python2"
  },
  "language_info": {
   "codemirror_mode": {
    "name": "ipython",
    "version": 2.0
   },
   "file_extension": ".py",
   "mimetype": "text/x-python",
   "name": "python",
   "nbconvert_exporter": "python",
   "pygments_lexer": "ipython2",
   "version": "2.7.6"
  }
 },
 "nbformat": 4,
 "nbformat_minor": 0
}