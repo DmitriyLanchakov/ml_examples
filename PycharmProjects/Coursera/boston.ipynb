{
 "cells": [
  {
   "cell_type": "code",
   "execution_count": 17,
   "metadata": {
    "collapsed": true
   },
   "outputs": [],
   "source": [
    "from sklearn.datasets import load_boston\n",
    "from sklearn.preprocessing import scale\n",
    "first_data = load_boston()\n",
    "data = first_data['data']\n",
    "target = first_data['target']\n",
    "scaled_data = scale(data)"
   ]
  },
  {
   "cell_type": "code",
   "execution_count": 25,
   "metadata": {},
   "outputs": [
    {
     "name": "stdout",
     "output_type": "stream",
     "text": [
      "1.0 -29.804020798\n"
     ]
    }
   ],
   "source": [
    "import numpy as np\n",
    "from sklearn.neighbors import KNeighborsRegressor\n",
    "from sklearn.model_selection import cross_val_score\n",
    "from sklearn.model_selection import KFold\n",
    "kf = KFold(n_splits=5, random_state=42, shuffle=True)\n",
    "num, res = 0, -100\n",
    "for p_ in np.linspace(1, 10, 200):\n",
    "    clf = KNeighborsRegressor(n_neighbors=5, weights='distance', \n",
    "                              metric='minkowski', p=p_)\n",
    "    score = np.mean(cross_val_score(clf, data, target, cv=kf, \n",
    "                                    scoring='neg_mean_squared_error'))\n",
    "    if score > res:\n",
    "        res, num = score, p_\n",
    "print(num, res)"
   ]
  },
  {
   "cell_type": "code",
   "execution_count": null,
   "metadata": {},
   "outputs": [],
   "source": [
    "clf = KNeighborsRegressor(n_neighbors=5, weights='distance', \n",
    "                              metric='minkowski', p=2)\n",
    "score = np.mean(cross_val_score(clf, data, target, cv=kf, \n",
    "                                    scoring='neg_mean_squared_error'))\n",
    "print(score)"
   ]
  }
 ],
 "metadata": {
  "kernelspec": {
   "display_name": "Python 2",
   "language": "python",
   "name": "python2"
  },
  "language_info": {
   "codemirror_mode": {
    "name": "ipython",
    "version": 2.0
   },
   "file_extension": ".py",
   "mimetype": "text/x-python",
   "name": "python",
   "nbconvert_exporter": "python",
   "pygments_lexer": "ipython2",
   "version": "2.7.6"
  }
 },
 "nbformat": 4,
 "nbformat_minor": 0
}