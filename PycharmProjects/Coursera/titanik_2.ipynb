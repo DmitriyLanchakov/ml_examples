{
 "cells": [
  {
   "cell_type": "code",
   "execution_count": 2,
   "metadata": {
    "collapsed": false
   },
   "outputs": [
    {
     "name": "stdout",
     "output_type": "stream",
     "text": [
      "          Sex   Age  Pclass      Fare\nSurvived                             \n0           1  22.0       3    7.2500\n1           0  38.0       1   71.2833\n1           0  26.0       3    7.9250\n1           0  35.0       1   53.1000\n0           1  35.0       3    8.0500\n0           1  54.0       1   51.8625\n0           1   2.0       3   21.0750\n1           0  27.0       3   11.1333\n1           0  14.0       2   30.0708\n1           0   4.0       3   16.7000\n1           0  58.0       1   26.5500\n0           1  20.0       3    8.0500\n0           1  39.0       3   31.2750\n0           0  14.0       3    7.8542\n1           0  55.0       2   16.0000\n0           1   2.0       3   29.1250\n0           0  31.0       3   18.0000\n0           1  35.0       2   26.0000\n1           1  34.0       2   13.0000\n1           0  15.0       3    8.0292\n1           1  28.0       1   35.5000\n0           0   8.0       3   21.0750\n1           0  38.0       3   31.3875\n0           1  19.0       1  263.0000\n0           1  40.0       1   27.7208\n0           1  66.0       2   10.5000\n0           1  28.0       1   82.1708\n0           1  42.0       1   52.0000\n0           1  21.0       3    8.0500\n0           0  18.0       3   18.0000\n...       ...   ...     ...       ...\n1           0  45.0       1  164.8667\n1           1  51.0       1   26.5500\n1           0  24.0       3   19.2583\n0           1  41.0       3   14.1083\n0           1  21.0       2   11.5000\n1           0  48.0       1   25.9292\n0           1  24.0       2   13.0000\n1           0  42.0       2   13.0000\n1           0  27.0       2   13.8583\n0           1  31.0       1   50.4958\n1           1   4.0       3   11.1333\n0           1  26.0       3    7.8958\n1           0  47.0       1   52.5542\n0           1  33.0       1    5.0000\n0           1  47.0       3    9.0000\n1           0  28.0       2   24.0000\n1           0  15.0       3    7.2250\n0           1  20.0       3    9.8458\n0           1  19.0       3    7.8958\n1           0  56.0       1   83.1583\n1           0  25.0       2   26.0000\n0           1  33.0       3    7.8958\n0           0  22.0       3   10.5167\n0           1  28.0       2   10.5000\n0           1  25.0       3    7.0500\n0           0  39.0       3   29.1250\n0           1  27.0       2   13.0000\n1           0  19.0       1   30.0000\n1           1  26.0       1   30.0000\n0           1  32.0       3    7.7500\n\n[714 rows x 4 columns]\n"
     ]
    }
   ],
   "source": [
    "import pandas as pd\n",
    "from sklearn.tree import DecisionTreeClassifier\n",
    "clf = DecisionTreeClassifier(random_state=241)\n",
    "data = pd.read_csv('train.csv', index_col='Survived')\n",
    "fixed_data = data[['Sex','Age','Pclass','Fare']].dropna()\n",
    "sex_data = fixed_data.replace(['male','female'], [1, 0])\n",
    "print(sex_data)"
   ]
  },
  {
   "cell_type": "code",
   "execution_count": 3,
   "metadata": {
    "collapsed": true
   },
   "outputs": [
    {
     "name": "stdout",
     "output_type": "stream",
     "text": [
      "[ 0.30051221  0.2560461   0.13700004  0.30644165]\n"
     ]
    }
   ],
   "source": [
    "clf.fit(sex_data, sex_data.index)\n",
    "importances = clf.feature_importances_\n",
    "print(importances)"
   ]
  },
  {
   "cell_type": "code",
   "execution_count": null,
   "metadata": {},
   "outputs": [],
   "source": [
    ""
   ]
  }
 ],
 "metadata": {
  "kernelspec": {
   "display_name": "Python 2",
   "language": "python",
   "name": "python2"
  },
  "language_info": {
   "codemirror_mode": {
    "name": "ipython",
    "version": 2.0
   },
   "file_extension": ".py",
   "mimetype": "text/x-python",
   "name": "python",
   "nbconvert_exporter": "python",
   "pygments_lexer": "ipython2",
   "version": "2.7.6"
  }
 },
 "nbformat": 4,
 "nbformat_minor": 0
}