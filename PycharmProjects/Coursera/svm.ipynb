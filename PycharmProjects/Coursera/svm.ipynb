{
 "cells": [
  {
   "cell_type": "code",
   "execution_count": 52,
   "metadata": {
    "collapsed": false
   },
   "outputs": [
    {
     "name": "stdout",
     "output_type": "stream",
     "text": [
      "        1     2\n0              \n0.0  0.70  0.29\n1.0  0.23  0.55\n0.0  0.72  0.42\n0.0  0.98  0.68\n0.0  0.48  0.39\n1.0  0.34  0.73\n0.0  0.44  0.06\n1.0  0.40  0.74\n0.0  0.18  0.18\n1.0  0.53  0.53\n"
     ]
    },
    {
     "data": {
      "image/png": "[encoded data removed]",
      "text/plain": [
       "<matplotlib.figure.Figure at 0x7f2ebbae2e48>"
      ]
     },
     "metadata": {},
     "output_type": "display_data"
    }
   ],
   "source": [
    "import pandas as pd\n",
    "import numpy as np\n",
    "import matplotlib.pyplot as plt\n",
    "data = pd.read_csv('svm-data.csv', delim_whitespace=0, header=None, index_col=0)\n",
    "print(data)\n",
    "new_data1 = data[data.index == 0]\n",
    "new_data2 = data[data.index == 1]\n",
    "ax = new_data1.plot.scatter(x=1, y=2, color='DarkBlue', alpha=0.5)\n",
    "new_data2.plot.scatter(x=1, y=2, color='Red', ax=ax, alpha=0.5)\n",
    "plt.show()"
   ]
  },
  {
   "cell_type": "code",
   "execution_count": 56,
   "metadata": {},
   "outputs": [
    {
     "name": "stdout",
     "output_type": "stream",
     "text": [
      "[ 4  5 10]\n"
     ]
    }
   ],
   "source": [
    "from sklearn.svm import SVC\n",
    "clf = SVC(C=100000, random_state=421, kernel='linear')\n",
    "clf.fit(data.values, data.index)\n",
    "res = clf.support_\n",
    "res += 1\n",
    "print(res)"
   ]
  },
  {
   "cell_type": "code",
   "execution_count": null,
   "metadata": {},
   "outputs": [],
   "source": [
    ""
   ]
  }
 ],
 "metadata": {
  "kernelspec": {
   "display_name": "Python 2",
   "language": "python",
   "name": "python2"
  },
  "language_info": {
   "codemirror_mode": {
    "name": "ipython",
    "version": 2.0
   },
   "file_extension": ".py",
   "mimetype": "text/x-python",
   "name": "python",
   "nbconvert_exporter": "python",
   "pygments_lexer": "ipython2",
   "version": "2.7.6"
  }
 },
 "nbformat": 4,
 "nbformat_minor": 0
}