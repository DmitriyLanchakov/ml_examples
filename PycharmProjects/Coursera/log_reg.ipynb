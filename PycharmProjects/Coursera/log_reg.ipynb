{
 "cells": [
  {
   "cell_type": "code",
   "execution_count": 39,
   "metadata": {
    "collapsed": true
   },
   "outputs": [
    {
     "name": "stdout",
     "output_type": "stream",
     "text": [
      "           1         2\n0                     \n-1 -0.663827 -0.138526\n 1  1.994596  2.468025\n-1 -1.247395  0.749425\n-0.138525716794\n"
     ]
    }
   ],
   "source": [
    "import pandas as pd\n",
    "data = pd.read_csv('data-logistic.csv', delim_whitespace=False, header=None, index_col=0)\n",
    "print(data[:3])\n",
    "new_data = data.values\n",
    "print(new_data[0, 1])"
   ]
  },
  {
   "cell_type": "code",
   "execution_count": 40,
   "metadata": {},
   "outputs": [
    {
     "name": "stdout",
     "output_type": "stream",
     "text": [
      "244\n8\n0.287811620472 0.0919833021593\n0.0285587545462 0.0247801372497\n"
     ]
    }
   ],
   "source": [
    "import math\n",
    "def grad_spysk(w1, w2, i, k, data, c, y):\n",
    "    l = len(data)\n",
    "    sum1, sum2 = 0, 0\n",
    "    i += 1\n",
    "    w1_old, w2_old = w1, w2\n",
    "    for j in range(l):\n",
    "        sum1 += y[j] * data[j, 0] * (1 - 1 / (1 + math.exp(-y[j] * (w1 * data[j, 0] + w2 * data[j, 1]))))\n",
    "        sum2 += y[j] * data[j, 1] * (1 - 1 / (1 + math.exp(-y[j] * (w1 * data[j, 0] + w2 * data[j, 1]))))\n",
    "    w1 += k / l * sum1 - k * c * w1\n",
    "    w2 += k / l * sum2 - k * c * w2\n",
    "    if math.sqrt(pow(w1 - w1_old, 2) + pow(w2 - w2_old, 2)) < pow(10, -5):\n",
    "        print(i)\n",
    "        return w1, w2        \n",
    "    elif i > 1000:\n",
    "        return w1, w2\n",
    "    else:\n",
    "        return grad_spysk(w1, w2, i, k, data, c, y)\n",
    "w1, w2 = grad_spysk(0, 0, 0, 0.1, new_data, 0, data.index)\n",
    "w1_l2, w2_l2 = grad_spysk(0, 0, 0, 0.1, new_data, 10, data.index)\n",
    "print(w1, w2)\n",
    "print(w1_l2, w2_l2)"
   ]
  },
  {
   "cell_type": "code",
   "execution_count": 41,
   "metadata": {},
   "outputs": [
    {
     "name": "stdout",
     "output_type": "stream",
     "text": [
      "[ 0.44922586  0.69020649  0.42798423  0.6983426   0.61440485]\n[ 0.49440255  0.529496    0.4957368   0.52822771  0.52096641]\n0.927 0.936\n"
     ]
    }
   ],
   "source": [
    "from sklearn.metrics import roc_auc_score\n",
    "import numpy as np\n",
    "def predict(w1, w2, data):\n",
    "    b = []\n",
    "    for i in range(len(data)):\n",
    "        b.append(1 / (1 + math.exp(-w1 * data[i, 0] - w2 * data[i, 1])))\n",
    "    a = np.array(b)\n",
    "    print(a[:5])\n",
    "    return a\n",
    "prediction = predict(w1, w2, new_data)\n",
    "l2_prediction = predict(w1_l2, w2_l2, new_data)\n",
    "score = roc_auc_score(data.index, prediction)\n",
    "l2_score = roc_auc_score(data.index, l2_prediction)\n",
    "print(round(score, 3), round(l2_score, 3))"
   ]
  },
  {
   "cell_type": "code",
   "execution_count": 77,
   "metadata": {},
   "outputs": [
    {
     "name": "stdout",
     "output_type": "stream",
     "text": [
      "526\n"
     ]
    },
    {
     "data": {
      "text/plain": [
       "(0.28840535589389055, 0.091434433675473867)"
      ]
     },
     "execution_count": 77,
     "metadata": {},
     "output_type": "execute_result"
    }
   ],
   "source": [
    "grad_spysk(10, 10, 0, 0.1, new_data, 0, data.index)"
   ]
  },
  {
   "cell_type": "code",
   "execution_count": null,
   "metadata": {},
   "outputs": [],
   "source": [
    ""
   ]
  }
 ],
 "metadata": {
  "kernelspec": {
   "display_name": "Python 2",
   "language": "python",
   "name": "python2"
  },
  "language_info": {
   "codemirror_mode": {
    "name": "ipython",
    "version": 2.0
   },
   "file_extension": ".py",
   "mimetype": "text/x-python",
   "name": "python",
   "nbconvert_exporter": "python",
   "pygments_lexer": "ipython2",
   "version": "2.7.6"
  }
 },
 "nbformat": 4,
 "nbformat_minor": 0
}